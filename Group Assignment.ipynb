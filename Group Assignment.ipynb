{
 "cells": [
  {
   "cell_type": "markdown",
   "metadata": {},
   "source": [
    "## Group Assignment"
   ]
  },
  {
   "cell_type": "markdown",
   "metadata": {},
   "source": [
    "#### Import the necessary libraries"
   ]
  },
  {
   "cell_type": "code",
   "execution_count": 1,
   "metadata": {},
   "outputs": [],
   "source": [
    "import pandas as pd\n",
    "import numpy as np\n",
    "import datetime as dt\n",
    "import pandas_datareader.data as web"
   ]
  },
  {
   "cell_type": "markdown",
   "metadata": {},
   "source": [
    "#### All questions in Parts I and II apply to a random sample of 15 stocks that your group will be assigned by running the following code."
   ]
  },
  {
   "cell_type": "markdown",
   "metadata": {},
   "source": [
    "#### Random Sample Selection "
   ]
  },
  {
   "cell_type": "code",
   "execution_count": 2,
   "metadata": {},
   "outputs": [
    {
     "name": "stdout",
     "output_type": "stream",
     "text": [
      "These are the fifteen stocks assigned to you: IBM PFE KO JPM DIS CVX C GS TRV XOM AXP CAT VZ CSCO MRK\n"
     ]
    }
   ],
   "source": [
    "np.random.seed (2041 + 2)\n",
    "ticker_list = ['AAPL', 'AXP', 'BA', 'C','CAT', 'CSCO', 'CVX', 'DIS', 'GS', 'HD', 'IBM', 'INTC', 'JNJ', 'JPM', 'KO',\n",
    "            'MCD', 'MMM', 'MRK', 'MSFT', 'NKE', 'PFE', 'PG', 'TRV', 'UNH', 'V', 'VZ', 'WMT', 'XOM']\n",
    "\n",
    "stock_list = np.random.choice(ticker_list,15,replace=False)\n",
    "print(f'These are the fifteen stocks assigned to you: {\" \".join(stock_list)}')"
   ]
  },
  {
   "cell_type": "markdown",
   "metadata": {},
   "source": [
    "### PART I"
   ]
  },
  {
   "cell_type": "markdown",
   "metadata": {},
   "source": [
    "#### 1. Create a DataFrame named returns to store the simple monthly returns for each stock in stock_list. Label the columns as 'RET_ticker', where ticker represents the trading symbol of the stock whose returns are stored in that column. The sample period is 01/2015 - 10/2022. "
   ]
  },
  {
   "cell_type": "code",
   "execution_count": 5,
   "metadata": {},
   "outputs": [],
   "source": [
    "# set the sample period from 1/2015-10/2022\n",
    "start = dt.datetime(2015,1,1)\n",
    "end = dt.datetime(2022,10,31)"
   ]
  },
  {
   "cell_type": "code",
   "execution_count": 6,
   "metadata": {
    "scrolled": true
   },
   "outputs": [
    {
     "name": "stdout",
     "output_type": "stream",
     "text": [
      "2014-12-31 00:00:00\n"
     ]
    }
   ],
   "source": [
    "print(start-pd.offsets.MonthEnd(1))"
   ]
  },
  {
   "cell_type": "code",
   "execution_count": 7,
   "metadata": {},
   "outputs": [
    {
     "name": "stdout",
     "output_type": "stream",
     "text": [
      "2014-12-31 00:00:00\n"
     ]
    }
   ],
   "source": [
    "print(start-pd.offsets.BDay(1))"
   ]
  },
  {
   "cell_type": "code",
   "execution_count": 9,
   "metadata": {
    "scrolled": true
   },
   "outputs": [
    {
     "data": {
      "text/html": [
       "<div>\n",
       "<style scoped>\n",
       "    .dataframe tbody tr th:only-of-type {\n",
       "        vertical-align: middle;\n",
       "    }\n",
       "\n",
       "    .dataframe tbody tr th {\n",
       "        vertical-align: top;\n",
       "    }\n",
       "\n",
       "    .dataframe thead th {\n",
       "        text-align: right;\n",
       "    }\n",
       "</style>\n",
       "<table border=\"1\" class=\"dataframe\">\n",
       "  <thead>\n",
       "    <tr style=\"text-align: right;\">\n",
       "      <th></th>\n",
       "      <th>RET_IBM</th>\n",
       "      <th>RET_PFE</th>\n",
       "      <th>RET_KO</th>\n",
       "      <th>RET_JPM</th>\n",
       "      <th>RET_DIS</th>\n",
       "      <th>RET_CVX</th>\n",
       "      <th>RET_C</th>\n",
       "      <th>RET_GS</th>\n",
       "      <th>RET_TRV</th>\n",
       "      <th>RET_XOM</th>\n",
       "      <th>RET_AXP</th>\n",
       "      <th>RET_CAT</th>\n",
       "      <th>RET_VZ</th>\n",
       "      <th>RET_CSCO</th>\n",
       "      <th>RET_MRK</th>\n",
       "    </tr>\n",
       "    <tr>\n",
       "      <th>Date</th>\n",
       "      <th></th>\n",
       "      <th></th>\n",
       "      <th></th>\n",
       "      <th></th>\n",
       "      <th></th>\n",
       "      <th></th>\n",
       "      <th></th>\n",
       "      <th></th>\n",
       "      <th></th>\n",
       "      <th></th>\n",
       "      <th></th>\n",
       "      <th></th>\n",
       "      <th></th>\n",
       "      <th></th>\n",
       "      <th></th>\n",
       "    </tr>\n",
       "  </thead>\n",
       "  <tbody>\n",
       "    <tr>\n",
       "      <th>2014-12-31</th>\n",
       "      <td>NaN</td>\n",
       "      <td>NaN</td>\n",
       "      <td>NaN</td>\n",
       "      <td>NaN</td>\n",
       "      <td>NaN</td>\n",
       "      <td>NaN</td>\n",
       "      <td>NaN</td>\n",
       "      <td>NaN</td>\n",
       "      <td>NaN</td>\n",
       "      <td>NaN</td>\n",
       "      <td>NaN</td>\n",
       "      <td>NaN</td>\n",
       "      <td>NaN</td>\n",
       "      <td>NaN</td>\n",
       "      <td>NaN</td>\n",
       "    </tr>\n",
       "    <tr>\n",
       "      <th>2015-01-31</th>\n",
       "      <td>-0.044441</td>\n",
       "      <td>0.003210</td>\n",
       "      <td>-0.024870</td>\n",
       "      <td>-0.125442</td>\n",
       "      <td>-0.034292</td>\n",
       "      <td>-0.086022</td>\n",
       "      <td>-0.132139</td>\n",
       "      <td>-0.110509</td>\n",
       "      <td>-0.028625</td>\n",
       "      <td>-0.054408</td>\n",
       "      <td>-0.130187</td>\n",
       "      <td>-0.119133</td>\n",
       "      <td>-0.011313</td>\n",
       "      <td>-0.045603</td>\n",
       "      <td>0.061455</td>\n",
       "    </tr>\n",
       "    <tr>\n",
       "      <th>2015-02-28</th>\n",
       "      <td>0.063701</td>\n",
       "      <td>0.107929</td>\n",
       "      <td>0.051737</td>\n",
       "      <td>0.126885</td>\n",
       "      <td>0.144239</td>\n",
       "      <td>0.050698</td>\n",
       "      <td>0.116507</td>\n",
       "      <td>0.104262</td>\n",
       "      <td>0.044933</td>\n",
       "      <td>0.020435</td>\n",
       "      <td>0.011154</td>\n",
       "      <td>0.036639</td>\n",
       "      <td>0.081820</td>\n",
       "      <td>0.119075</td>\n",
       "      <td>-0.028866</td>\n",
       "    </tr>\n",
       "    <tr>\n",
       "      <th>2015-03-31</th>\n",
       "      <td>-0.008892</td>\n",
       "      <td>0.013694</td>\n",
       "      <td>-0.055740</td>\n",
       "      <td>-0.011423</td>\n",
       "      <td>0.007783</td>\n",
       "      <td>-0.015935</td>\n",
       "      <td>-0.017169</td>\n",
       "      <td>-0.009590</td>\n",
       "      <td>0.011593</td>\n",
       "      <td>-0.039982</td>\n",
       "      <td>-0.039329</td>\n",
       "      <td>-0.034620</td>\n",
       "      <td>-0.016582</td>\n",
       "      <td>-0.059956</td>\n",
       "      <td>-0.010162</td>\n",
       "    </tr>\n",
       "    <tr>\n",
       "      <th>2015-04-30</th>\n",
       "      <td>0.067227</td>\n",
       "      <td>-0.024720</td>\n",
       "      <td>0.000247</td>\n",
       "      <td>0.051180</td>\n",
       "      <td>0.036514</td>\n",
       "      <td>0.057916</td>\n",
       "      <td>0.034938</td>\n",
       "      <td>0.044954</td>\n",
       "      <td>-0.064922</td>\n",
       "      <td>0.027883</td>\n",
       "      <td>-0.008577</td>\n",
       "      <td>0.094590</td>\n",
       "      <td>0.048929</td>\n",
       "      <td>0.047221</td>\n",
       "      <td>0.036187</td>\n",
       "    </tr>\n",
       "  </tbody>\n",
       "</table>\n",
       "</div>"
      ],
      "text/plain": [
       "             RET_IBM   RET_PFE    RET_KO   RET_JPM   RET_DIS   RET_CVX  \\\n",
       "Date                                                                     \n",
       "2014-12-31       NaN       NaN       NaN       NaN       NaN       NaN   \n",
       "2015-01-31 -0.044441  0.003210 -0.024870 -0.125442 -0.034292 -0.086022   \n",
       "2015-02-28  0.063701  0.107929  0.051737  0.126885  0.144239  0.050698   \n",
       "2015-03-31 -0.008892  0.013694 -0.055740 -0.011423  0.007783 -0.015935   \n",
       "2015-04-30  0.067227 -0.024720  0.000247  0.051180  0.036514  0.057916   \n",
       "\n",
       "               RET_C    RET_GS   RET_TRV   RET_XOM   RET_AXP   RET_CAT  \\\n",
       "Date                                                                     \n",
       "2014-12-31       NaN       NaN       NaN       NaN       NaN       NaN   \n",
       "2015-01-31 -0.132139 -0.110509 -0.028625 -0.054408 -0.130187 -0.119133   \n",
       "2015-02-28  0.116507  0.104262  0.044933  0.020435  0.011154  0.036639   \n",
       "2015-03-31 -0.017169 -0.009590  0.011593 -0.039982 -0.039329 -0.034620   \n",
       "2015-04-30  0.034938  0.044954 -0.064922  0.027883 -0.008577  0.094590   \n",
       "\n",
       "              RET_VZ  RET_CSCO   RET_MRK  \n",
       "Date                                      \n",
       "2014-12-31       NaN       NaN       NaN  \n",
       "2015-01-31 -0.011313 -0.045603  0.061455  \n",
       "2015-02-28  0.081820  0.119075 -0.028866  \n",
       "2015-03-31 -0.016582 -0.059956 -0.010162  \n",
       "2015-04-30  0.048929  0.047221  0.036187  "
      ]
     },
     "execution_count": 9,
     "metadata": {},
     "output_type": "execute_result"
    }
   ],
   "source": [
    "# initialize empty returns dataframe\n",
    "returns = pd.DataFrame()\n",
    "\n",
    "# loop through tickers and pull return data of start adjusted to the previous business day to get the correct 1/31/2015 return\n",
    "for ticker in stock_list:\n",
    "    returns['RET_' + ticker] = web.DataReader(ticker, 'yahoo', start-pd.offsets.BDay(1), end)['Adj Close'].pct_change().resample(rule='M').apply(lambda x: (1+x).cumprod().iloc[-1]-1)\n",
    "    \n",
    "returns.head()"
   ]
  },
  {
   "cell_type": "code",
   "execution_count": 10,
   "metadata": {},
   "outputs": [
    {
     "data": {
      "text/html": [
       "<div>\n",
       "<style scoped>\n",
       "    .dataframe tbody tr th:only-of-type {\n",
       "        vertical-align: middle;\n",
       "    }\n",
       "\n",
       "    .dataframe tbody tr th {\n",
       "        vertical-align: top;\n",
       "    }\n",
       "\n",
       "    .dataframe thead th {\n",
       "        text-align: right;\n",
       "    }\n",
       "</style>\n",
       "<table border=\"1\" class=\"dataframe\">\n",
       "  <thead>\n",
       "    <tr style=\"text-align: right;\">\n",
       "      <th></th>\n",
       "      <th>RET_IBM</th>\n",
       "      <th>RET_PFE</th>\n",
       "      <th>RET_KO</th>\n",
       "      <th>RET_JPM</th>\n",
       "      <th>RET_DIS</th>\n",
       "      <th>RET_CVX</th>\n",
       "      <th>RET_C</th>\n",
       "      <th>RET_GS</th>\n",
       "      <th>RET_TRV</th>\n",
       "      <th>RET_XOM</th>\n",
       "      <th>RET_AXP</th>\n",
       "      <th>RET_CAT</th>\n",
       "      <th>RET_VZ</th>\n",
       "      <th>RET_CSCO</th>\n",
       "      <th>RET_MRK</th>\n",
       "    </tr>\n",
       "    <tr>\n",
       "      <th>Date</th>\n",
       "      <th></th>\n",
       "      <th></th>\n",
       "      <th></th>\n",
       "      <th></th>\n",
       "      <th></th>\n",
       "      <th></th>\n",
       "      <th></th>\n",
       "      <th></th>\n",
       "      <th></th>\n",
       "      <th></th>\n",
       "      <th></th>\n",
       "      <th></th>\n",
       "      <th></th>\n",
       "      <th></th>\n",
       "      <th></th>\n",
       "    </tr>\n",
       "  </thead>\n",
       "  <tbody>\n",
       "    <tr>\n",
       "      <th>2015-01-31</th>\n",
       "      <td>-0.044441</td>\n",
       "      <td>0.003210</td>\n",
       "      <td>-0.024870</td>\n",
       "      <td>-0.125442</td>\n",
       "      <td>-0.034292</td>\n",
       "      <td>-0.086022</td>\n",
       "      <td>-0.132139</td>\n",
       "      <td>-0.110509</td>\n",
       "      <td>-0.028625</td>\n",
       "      <td>-0.054408</td>\n",
       "      <td>-0.130187</td>\n",
       "      <td>-0.119133</td>\n",
       "      <td>-0.011313</td>\n",
       "      <td>-0.045603</td>\n",
       "      <td>0.061455</td>\n",
       "    </tr>\n",
       "    <tr>\n",
       "      <th>2015-02-28</th>\n",
       "      <td>0.063701</td>\n",
       "      <td>0.107929</td>\n",
       "      <td>0.051737</td>\n",
       "      <td>0.126885</td>\n",
       "      <td>0.144239</td>\n",
       "      <td>0.050698</td>\n",
       "      <td>0.116507</td>\n",
       "      <td>0.104262</td>\n",
       "      <td>0.044933</td>\n",
       "      <td>0.020435</td>\n",
       "      <td>0.011154</td>\n",
       "      <td>0.036639</td>\n",
       "      <td>0.081820</td>\n",
       "      <td>0.119075</td>\n",
       "      <td>-0.028866</td>\n",
       "    </tr>\n",
       "    <tr>\n",
       "      <th>2015-03-31</th>\n",
       "      <td>-0.008892</td>\n",
       "      <td>0.013694</td>\n",
       "      <td>-0.055740</td>\n",
       "      <td>-0.011423</td>\n",
       "      <td>0.007783</td>\n",
       "      <td>-0.015935</td>\n",
       "      <td>-0.017169</td>\n",
       "      <td>-0.009590</td>\n",
       "      <td>0.011593</td>\n",
       "      <td>-0.039982</td>\n",
       "      <td>-0.039329</td>\n",
       "      <td>-0.034620</td>\n",
       "      <td>-0.016582</td>\n",
       "      <td>-0.059956</td>\n",
       "      <td>-0.010162</td>\n",
       "    </tr>\n",
       "    <tr>\n",
       "      <th>2015-04-30</th>\n",
       "      <td>0.067227</td>\n",
       "      <td>-0.024720</td>\n",
       "      <td>0.000247</td>\n",
       "      <td>0.051180</td>\n",
       "      <td>0.036514</td>\n",
       "      <td>0.057916</td>\n",
       "      <td>0.034938</td>\n",
       "      <td>0.044954</td>\n",
       "      <td>-0.064922</td>\n",
       "      <td>0.027883</td>\n",
       "      <td>-0.008577</td>\n",
       "      <td>0.094590</td>\n",
       "      <td>0.048929</td>\n",
       "      <td>0.047221</td>\n",
       "      <td>0.036187</td>\n",
       "    </tr>\n",
       "    <tr>\n",
       "      <th>2015-05-31</th>\n",
       "      <td>-0.002079</td>\n",
       "      <td>0.032642</td>\n",
       "      <td>0.009862</td>\n",
       "      <td>0.039836</td>\n",
       "      <td>0.015177</td>\n",
       "      <td>-0.063332</td>\n",
       "      <td>0.015215</td>\n",
       "      <td>0.053014</td>\n",
       "      <td>0.000099</td>\n",
       "      <td>-0.016772</td>\n",
       "      <td>0.029309</td>\n",
       "      <td>-0.017956</td>\n",
       "      <td>-0.019826</td>\n",
       "      <td>0.016649</td>\n",
       "      <td>0.022330</td>\n",
       "    </tr>\n",
       "  </tbody>\n",
       "</table>\n",
       "</div>"
      ],
      "text/plain": [
       "             RET_IBM   RET_PFE    RET_KO   RET_JPM   RET_DIS   RET_CVX  \\\n",
       "Date                                                                     \n",
       "2015-01-31 -0.044441  0.003210 -0.024870 -0.125442 -0.034292 -0.086022   \n",
       "2015-02-28  0.063701  0.107929  0.051737  0.126885  0.144239  0.050698   \n",
       "2015-03-31 -0.008892  0.013694 -0.055740 -0.011423  0.007783 -0.015935   \n",
       "2015-04-30  0.067227 -0.024720  0.000247  0.051180  0.036514  0.057916   \n",
       "2015-05-31 -0.002079  0.032642  0.009862  0.039836  0.015177 -0.063332   \n",
       "\n",
       "               RET_C    RET_GS   RET_TRV   RET_XOM   RET_AXP   RET_CAT  \\\n",
       "Date                                                                     \n",
       "2015-01-31 -0.132139 -0.110509 -0.028625 -0.054408 -0.130187 -0.119133   \n",
       "2015-02-28  0.116507  0.104262  0.044933  0.020435  0.011154  0.036639   \n",
       "2015-03-31 -0.017169 -0.009590  0.011593 -0.039982 -0.039329 -0.034620   \n",
       "2015-04-30  0.034938  0.044954 -0.064922  0.027883 -0.008577  0.094590   \n",
       "2015-05-31  0.015215  0.053014  0.000099 -0.016772  0.029309 -0.017956   \n",
       "\n",
       "              RET_VZ  RET_CSCO   RET_MRK  \n",
       "Date                                      \n",
       "2015-01-31 -0.011313 -0.045603  0.061455  \n",
       "2015-02-28  0.081820  0.119075 -0.028866  \n",
       "2015-03-31 -0.016582 -0.059956 -0.010162  \n",
       "2015-04-30  0.048929  0.047221  0.036187  \n",
       "2015-05-31 -0.019826  0.016649  0.022330  "
      ]
     },
     "execution_count": 10,
     "metadata": {},
     "output_type": "execute_result"
    }
   ],
   "source": [
    "# drop first entry to start with 1/31/15 returns\n",
    "returns = returns.dropna(how='all')\n",
    "returns.head()"
   ]
  },
  {
   "cell_type": "code",
   "execution_count": 12,
   "metadata": {
    "collapsed": true
   },
   "outputs": [
    {
     "data": {
      "text/html": [
       "<div>\n",
       "<style scoped>\n",
       "    .dataframe tbody tr th:only-of-type {\n",
       "        vertical-align: middle;\n",
       "    }\n",
       "\n",
       "    .dataframe tbody tr th {\n",
       "        vertical-align: top;\n",
       "    }\n",
       "\n",
       "    .dataframe thead th {\n",
       "        text-align: right;\n",
       "    }\n",
       "</style>\n",
       "<table border=\"1\" class=\"dataframe\">\n",
       "  <thead>\n",
       "    <tr style=\"text-align: right;\">\n",
       "      <th></th>\n",
       "      <th>RET_IBM</th>\n",
       "      <th>RET_PFE</th>\n",
       "      <th>RET_KO</th>\n",
       "      <th>RET_JPM</th>\n",
       "      <th>RET_DIS</th>\n",
       "      <th>RET_CVX</th>\n",
       "      <th>RET_C</th>\n",
       "      <th>RET_GS</th>\n",
       "      <th>RET_TRV</th>\n",
       "      <th>RET_XOM</th>\n",
       "      <th>RET_AXP</th>\n",
       "      <th>RET_CAT</th>\n",
       "      <th>RET_VZ</th>\n",
       "      <th>RET_CSCO</th>\n",
       "      <th>RET_MRK</th>\n",
       "    </tr>\n",
       "    <tr>\n",
       "      <th>Date</th>\n",
       "      <th></th>\n",
       "      <th></th>\n",
       "      <th></th>\n",
       "      <th></th>\n",
       "      <th></th>\n",
       "      <th></th>\n",
       "      <th></th>\n",
       "      <th></th>\n",
       "      <th></th>\n",
       "      <th></th>\n",
       "      <th></th>\n",
       "      <th></th>\n",
       "      <th></th>\n",
       "      <th></th>\n",
       "      <th></th>\n",
       "    </tr>\n",
       "  </thead>\n",
       "  <tbody>\n",
       "    <tr>\n",
       "      <th>2022-06-30</th>\n",
       "      <td>0.016926</td>\n",
       "      <td>-0.011501</td>\n",
       "      <td>-0.000244</td>\n",
       "      <td>-0.148378</td>\n",
       "      <td>-0.145237</td>\n",
       "      <td>-0.171075</td>\n",
       "      <td>-0.138925</td>\n",
       "      <td>-0.091265</td>\n",
       "      <td>-0.050332</td>\n",
       "      <td>-0.107917</td>\n",
       "      <td>-0.175816</td>\n",
       "      <td>-0.171832</td>\n",
       "      <td>-0.010528</td>\n",
       "      <td>-0.053496</td>\n",
       "      <td>-0.001237</td>\n",
       "    </tr>\n",
       "    <tr>\n",
       "      <th>2022-07-31</th>\n",
       "      <td>-0.073660</td>\n",
       "      <td>-0.029145</td>\n",
       "      <td>0.020029</td>\n",
       "      <td>0.033482</td>\n",
       "      <td>0.123941</td>\n",
       "      <td>0.131234</td>\n",
       "      <td>0.139634</td>\n",
       "      <td>0.122450</td>\n",
       "      <td>-0.061669</td>\n",
       "      <td>0.131831</td>\n",
       "      <td>0.111095</td>\n",
       "      <td>0.116753</td>\n",
       "      <td>-0.078402</td>\n",
       "      <td>0.073601</td>\n",
       "      <td>-0.020072</td>\n",
       "    </tr>\n",
       "    <tr>\n",
       "      <th>2022-08-31</th>\n",
       "      <td>-0.005517</td>\n",
       "      <td>-0.104534</td>\n",
       "      <td>-0.038336</td>\n",
       "      <td>-0.014130</td>\n",
       "      <td>0.056362</td>\n",
       "      <td>-0.026156</td>\n",
       "      <td>-0.059538</td>\n",
       "      <td>0.005374</td>\n",
       "      <td>0.018525</td>\n",
       "      <td>-0.004242</td>\n",
       "      <td>-0.013115</td>\n",
       "      <td>-0.068298</td>\n",
       "      <td>-0.094826</td>\n",
       "      <td>-0.014327</td>\n",
       "      <td>-0.044549</td>\n",
       "    </tr>\n",
       "    <tr>\n",
       "      <th>2022-09-30</th>\n",
       "      <td>-0.075049</td>\n",
       "      <td>-0.032501</td>\n",
       "      <td>-0.085587</td>\n",
       "      <td>-0.081157</td>\n",
       "      <td>-0.158369</td>\n",
       "      <td>-0.091041</td>\n",
       "      <td>-0.146282</td>\n",
       "      <td>-0.119097</td>\n",
       "      <td>-0.046810</td>\n",
       "      <td>-0.086620</td>\n",
       "      <td>-0.112434</td>\n",
       "      <td>-0.111689</td>\n",
       "      <td>-0.091844</td>\n",
       "      <td>-0.105546</td>\n",
       "      <td>0.017037</td>\n",
       "    </tr>\n",
       "    <tr>\n",
       "      <th>2022-10-31</th>\n",
       "      <td>0.163959</td>\n",
       "      <td>0.063757</td>\n",
       "      <td>0.068368</td>\n",
       "      <td>0.215371</td>\n",
       "      <td>0.129439</td>\n",
       "      <td>0.259135</td>\n",
       "      <td>0.100552</td>\n",
       "      <td>0.175602</td>\n",
       "      <td>0.204047</td>\n",
       "      <td>0.269156</td>\n",
       "      <td>0.104564</td>\n",
       "      <td>0.328062</td>\n",
       "      <td>0.000785</td>\n",
       "      <td>0.146300</td>\n",
       "      <td>0.175104</td>\n",
       "    </tr>\n",
       "  </tbody>\n",
       "</table>\n",
       "</div>"
      ],
      "text/plain": [
       "             RET_IBM   RET_PFE    RET_KO   RET_JPM   RET_DIS   RET_CVX  \\\n",
       "Date                                                                     \n",
       "2022-06-30  0.016926 -0.011501 -0.000244 -0.148378 -0.145237 -0.171075   \n",
       "2022-07-31 -0.073660 -0.029145  0.020029  0.033482  0.123941  0.131234   \n",
       "2022-08-31 -0.005517 -0.104534 -0.038336 -0.014130  0.056362 -0.026156   \n",
       "2022-09-30 -0.075049 -0.032501 -0.085587 -0.081157 -0.158369 -0.091041   \n",
       "2022-10-31  0.163959  0.063757  0.068368  0.215371  0.129439  0.259135   \n",
       "\n",
       "               RET_C    RET_GS   RET_TRV   RET_XOM   RET_AXP   RET_CAT  \\\n",
       "Date                                                                     \n",
       "2022-06-30 -0.138925 -0.091265 -0.050332 -0.107917 -0.175816 -0.171832   \n",
       "2022-07-31  0.139634  0.122450 -0.061669  0.131831  0.111095  0.116753   \n",
       "2022-08-31 -0.059538  0.005374  0.018525 -0.004242 -0.013115 -0.068298   \n",
       "2022-09-30 -0.146282 -0.119097 -0.046810 -0.086620 -0.112434 -0.111689   \n",
       "2022-10-31  0.100552  0.175602  0.204047  0.269156  0.104564  0.328062   \n",
       "\n",
       "              RET_VZ  RET_CSCO   RET_MRK  \n",
       "Date                                      \n",
       "2022-06-30 -0.010528 -0.053496 -0.001237  \n",
       "2022-07-31 -0.078402  0.073601 -0.020072  \n",
       "2022-08-31 -0.094826 -0.014327 -0.044549  \n",
       "2022-09-30 -0.091844 -0.105546  0.017037  \n",
       "2022-10-31  0.000785  0.146300  0.175104  "
      ]
     },
     "execution_count": 12,
     "metadata": {},
     "output_type": "execute_result"
    }
   ],
   "source": [
    "returns.tail()"
   ]
  },
  {
   "cell_type": "markdown",
   "metadata": {},
   "source": [
    "#### 2. Download the monthly Fama French four-factors data for the sample period 01/2015 - 10/2022 and store it in a DataFrame labeled four_factors."
   ]
  },
  {
   "cell_type": "code",
   "execution_count": 13,
   "metadata": {},
   "outputs": [
    {
     "data": {
      "text/html": [
       "<div>\n",
       "<style scoped>\n",
       "    .dataframe tbody tr th:only-of-type {\n",
       "        vertical-align: middle;\n",
       "    }\n",
       "\n",
       "    .dataframe tbody tr th {\n",
       "        vertical-align: top;\n",
       "    }\n",
       "\n",
       "    .dataframe thead th {\n",
       "        text-align: right;\n",
       "    }\n",
       "</style>\n",
       "<table border=\"1\" class=\"dataframe\">\n",
       "  <thead>\n",
       "    <tr style=\"text-align: right;\">\n",
       "      <th></th>\n",
       "      <th>Mkt-RF</th>\n",
       "      <th>SMB</th>\n",
       "      <th>HML</th>\n",
       "      <th>RF</th>\n",
       "    </tr>\n",
       "    <tr>\n",
       "      <th>Date</th>\n",
       "      <th></th>\n",
       "      <th></th>\n",
       "      <th></th>\n",
       "      <th></th>\n",
       "    </tr>\n",
       "  </thead>\n",
       "  <tbody>\n",
       "    <tr>\n",
       "      <th>2022-06-30</th>\n",
       "      <td>-0.0843</td>\n",
       "      <td>0.0209</td>\n",
       "      <td>-0.0597</td>\n",
       "      <td>0.0006</td>\n",
       "    </tr>\n",
       "    <tr>\n",
       "      <th>2022-07-31</th>\n",
       "      <td>0.0957</td>\n",
       "      <td>0.0281</td>\n",
       "      <td>-0.0410</td>\n",
       "      <td>0.0008</td>\n",
       "    </tr>\n",
       "    <tr>\n",
       "      <th>2022-08-31</th>\n",
       "      <td>-0.0377</td>\n",
       "      <td>0.0139</td>\n",
       "      <td>0.0031</td>\n",
       "      <td>0.0019</td>\n",
       "    </tr>\n",
       "    <tr>\n",
       "      <th>2022-09-30</th>\n",
       "      <td>-0.0935</td>\n",
       "      <td>-0.0082</td>\n",
       "      <td>0.0003</td>\n",
       "      <td>0.0019</td>\n",
       "    </tr>\n",
       "    <tr>\n",
       "      <th>2022-10-31</th>\n",
       "      <td>0.0783</td>\n",
       "      <td>0.0010</td>\n",
       "      <td>0.0806</td>\n",
       "      <td>0.0023</td>\n",
       "    </tr>\n",
       "  </tbody>\n",
       "</table>\n",
       "</div>"
      ],
      "text/plain": [
       "            Mkt-RF     SMB     HML      RF\n",
       "Date                                      \n",
       "2022-06-30 -0.0843  0.0209 -0.0597  0.0006\n",
       "2022-07-31  0.0957  0.0281 -0.0410  0.0008\n",
       "2022-08-31 -0.0377  0.0139  0.0031  0.0019\n",
       "2022-09-30 -0.0935 -0.0082  0.0003  0.0019\n",
       "2022-10-31  0.0783  0.0010  0.0806  0.0023"
      ]
     },
     "execution_count": 13,
     "metadata": {},
     "output_type": "execute_result"
    }
   ],
   "source": [
    "four_factors = web.DataReader('F-F_Research_Data_Factors','famafrench', start + pd.offsets.MonthEnd(0), end)[0] \n",
    "four_factors = four_factors.apply(lambda x: x/100)\n",
    "four_factors.index = four_factors.index.to_timestamp(how='end').normalize()\n",
    "four_factors.tail()"
   ]
  },
  {
   "cell_type": "code",
   "execution_count": 14,
   "metadata": {},
   "outputs": [
    {
     "data": {
      "text/plain": [
       "94"
      ]
     },
     "execution_count": 14,
     "metadata": {},
     "output_type": "execute_result"
    }
   ],
   "source": [
    "len(four_factors)"
   ]
  },
  {
   "cell_type": "markdown",
   "metadata": {},
   "source": [
    "#### 3. Use the DataFrame returns to create a new DataFrame named data_intial that only has the data from January 2015 to December 2019. In addition, create another DataFrame named data_post to store the remaining data."
   ]
  },
  {
   "cell_type": "code",
   "execution_count": 15,
   "metadata": {},
   "outputs": [
    {
     "data": {
      "text/html": [
       "<div>\n",
       "<style scoped>\n",
       "    .dataframe tbody tr th:only-of-type {\n",
       "        vertical-align: middle;\n",
       "    }\n",
       "\n",
       "    .dataframe tbody tr th {\n",
       "        vertical-align: top;\n",
       "    }\n",
       "\n",
       "    .dataframe thead th {\n",
       "        text-align: right;\n",
       "    }\n",
       "</style>\n",
       "<table border=\"1\" class=\"dataframe\">\n",
       "  <thead>\n",
       "    <tr style=\"text-align: right;\">\n",
       "      <th></th>\n",
       "      <th>RET_IBM</th>\n",
       "      <th>RET_PFE</th>\n",
       "      <th>RET_KO</th>\n",
       "      <th>RET_JPM</th>\n",
       "      <th>RET_DIS</th>\n",
       "      <th>RET_CVX</th>\n",
       "      <th>RET_C</th>\n",
       "      <th>RET_GS</th>\n",
       "      <th>RET_TRV</th>\n",
       "      <th>RET_XOM</th>\n",
       "      <th>RET_AXP</th>\n",
       "      <th>RET_CAT</th>\n",
       "      <th>RET_VZ</th>\n",
       "      <th>RET_CSCO</th>\n",
       "      <th>RET_MRK</th>\n",
       "    </tr>\n",
       "    <tr>\n",
       "      <th>Date</th>\n",
       "      <th></th>\n",
       "      <th></th>\n",
       "      <th></th>\n",
       "      <th></th>\n",
       "      <th></th>\n",
       "      <th></th>\n",
       "      <th></th>\n",
       "      <th></th>\n",
       "      <th></th>\n",
       "      <th></th>\n",
       "      <th></th>\n",
       "      <th></th>\n",
       "      <th></th>\n",
       "      <th></th>\n",
       "      <th></th>\n",
       "    </tr>\n",
       "  </thead>\n",
       "  <tbody>\n",
       "    <tr>\n",
       "      <th>2020-01-31</th>\n",
       "      <td>0.072292</td>\n",
       "      <td>-0.039806</td>\n",
       "      <td>0.055104</td>\n",
       "      <td>-0.044407</td>\n",
       "      <td>-0.043698</td>\n",
       "      <td>-0.110945</td>\n",
       "      <td>-0.062419</td>\n",
       "      <td>0.034010</td>\n",
       "      <td>-0.038919</td>\n",
       "      <td>-0.109774</td>\n",
       "      <td>0.046832</td>\n",
       "      <td>-0.104338</td>\n",
       "      <td>-0.021847</td>\n",
       "      <td>-0.034447</td>\n",
       "      <td>-0.060583</td>\n",
       "    </tr>\n",
       "    <tr>\n",
       "      <th>2020-02-29</th>\n",
       "      <td>-0.085027</td>\n",
       "      <td>-0.102578</td>\n",
       "      <td>-0.084075</td>\n",
       "      <td>-0.122771</td>\n",
       "      <td>-0.149375</td>\n",
       "      <td>-0.118621</td>\n",
       "      <td>-0.147158</td>\n",
       "      <td>-0.150378</td>\n",
       "      <td>-0.089728</td>\n",
       "      <td>-0.160037</td>\n",
       "      <td>-0.153538</td>\n",
       "      <td>-0.054130</td>\n",
       "      <td>-0.088829</td>\n",
       "      <td>-0.131390</td>\n",
       "      <td>-0.103932</td>\n",
       "    </tr>\n",
       "    <tr>\n",
       "      <th>2020-03-31</th>\n",
       "      <td>-0.147676</td>\n",
       "      <td>-0.023339</td>\n",
       "      <td>-0.165487</td>\n",
       "      <td>-0.224615</td>\n",
       "      <td>-0.178921</td>\n",
       "      <td>-0.223698</td>\n",
       "      <td>-0.336275</td>\n",
       "      <td>-0.230015</td>\n",
       "      <td>-0.165288</td>\n",
       "      <td>-0.261858</td>\n",
       "      <td>-0.221232</td>\n",
       "      <td>-0.066001</td>\n",
       "      <td>-0.007940</td>\n",
       "      <td>-0.015527</td>\n",
       "      <td>0.013266</td>\n",
       "    </tr>\n",
       "    <tr>\n",
       "      <th>2020-04-30</th>\n",
       "      <td>0.131885</td>\n",
       "      <td>0.175245</td>\n",
       "      <td>0.037062</td>\n",
       "      <td>0.074698</td>\n",
       "      <td>0.119565</td>\n",
       "      <td>0.269666</td>\n",
       "      <td>0.152896</td>\n",
       "      <td>0.186493</td>\n",
       "      <td>0.018722</td>\n",
       "      <td>0.223861</td>\n",
       "      <td>0.071801</td>\n",
       "      <td>0.012138</td>\n",
       "      <td>0.080734</td>\n",
       "      <td>0.088319</td>\n",
       "      <td>0.031193</td>\n",
       "    </tr>\n",
       "    <tr>\n",
       "      <th>2020-05-31</th>\n",
       "      <td>0.008084</td>\n",
       "      <td>0.005490</td>\n",
       "      <td>0.017215</td>\n",
       "      <td>0.016186</td>\n",
       "      <td>0.084605</td>\n",
       "      <td>0.011372</td>\n",
       "      <td>-0.002914</td>\n",
       "      <td>0.077953</td>\n",
       "      <td>0.057010</td>\n",
       "      <td>-0.002547</td>\n",
       "      <td>0.041863</td>\n",
       "      <td>0.032222</td>\n",
       "      <td>-0.001218</td>\n",
       "      <td>0.128362</td>\n",
       "      <td>0.017394</td>\n",
       "    </tr>\n",
       "  </tbody>\n",
       "</table>\n",
       "</div>"
      ],
      "text/plain": [
       "             RET_IBM   RET_PFE    RET_KO   RET_JPM   RET_DIS   RET_CVX  \\\n",
       "Date                                                                     \n",
       "2020-01-31  0.072292 -0.039806  0.055104 -0.044407 -0.043698 -0.110945   \n",
       "2020-02-29 -0.085027 -0.102578 -0.084075 -0.122771 -0.149375 -0.118621   \n",
       "2020-03-31 -0.147676 -0.023339 -0.165487 -0.224615 -0.178921 -0.223698   \n",
       "2020-04-30  0.131885  0.175245  0.037062  0.074698  0.119565  0.269666   \n",
       "2020-05-31  0.008084  0.005490  0.017215  0.016186  0.084605  0.011372   \n",
       "\n",
       "               RET_C    RET_GS   RET_TRV   RET_XOM   RET_AXP   RET_CAT  \\\n",
       "Date                                                                     \n",
       "2020-01-31 -0.062419  0.034010 -0.038919 -0.109774  0.046832 -0.104338   \n",
       "2020-02-29 -0.147158 -0.150378 -0.089728 -0.160037 -0.153538 -0.054130   \n",
       "2020-03-31 -0.336275 -0.230015 -0.165288 -0.261858 -0.221232 -0.066001   \n",
       "2020-04-30  0.152896  0.186493  0.018722  0.223861  0.071801  0.012138   \n",
       "2020-05-31 -0.002914  0.077953  0.057010 -0.002547  0.041863  0.032222   \n",
       "\n",
       "              RET_VZ  RET_CSCO   RET_MRK  \n",
       "Date                                      \n",
       "2020-01-31 -0.021847 -0.034447 -0.060583  \n",
       "2020-02-29 -0.088829 -0.131390 -0.103932  \n",
       "2020-03-31 -0.007940 -0.015527  0.013266  \n",
       "2020-04-30  0.080734  0.088319  0.031193  \n",
       "2020-05-31 -0.001218  0.128362  0.017394  "
      ]
     },
     "execution_count": 15,
     "metadata": {},
     "output_type": "execute_result"
    }
   ],
   "source": [
    "data_initial = returns.loc['2015-01':'2019-12']\n",
    "data_post =pd.concat([returns,data_initial]).drop_duplicates(keep=False)\n",
    "data_post.head()"
   ]
  },
  {
   "cell_type": "markdown",
   "metadata": {},
   "source": [
    "#### 4a. Use the DataFrames data_initial and four_factors to find the optimal portfolio (highest Sharpe ratio) from the universe of stocks comprised of all fifteen stocks assigned to your group. Assume there are no short-selling constraints."
   ]
  },
  {
   "cell_type": "code",
   "execution_count": 16,
   "metadata": {},
   "outputs": [],
   "source": [
    "from scipy.optimize import minimize"
   ]
  },
  {
   "cell_type": "code",
   "execution_count": 17,
   "metadata": {},
   "outputs": [],
   "source": [
    "four_factors = four_factors[four_factors.index<=data_initial.index[-1]]"
   ]
  },
  {
   "cell_type": "code",
   "execution_count": 18,
   "metadata": {
    "scrolled": true
   },
   "outputs": [
    {
     "data": {
      "text/plain": [
       "60"
      ]
     },
     "execution_count": 18,
     "metadata": {},
     "output_type": "execute_result"
    }
   ],
   "source": [
    "len(data_initial)"
   ]
  },
  {
   "cell_type": "code",
   "execution_count": 19,
   "metadata": {},
   "outputs": [
    {
     "data": {
      "text/plain": [
       "60"
      ]
     },
     "execution_count": 19,
     "metadata": {},
     "output_type": "execute_result"
    }
   ],
   "source": [
    "len(four_factors)"
   ]
  },
  {
   "cell_type": "code",
   "execution_count": 20,
   "metadata": {},
   "outputs": [],
   "source": [
    "# Define the portfolio returns function\n",
    "def port_ret(weights):\n",
    "    port_ret = np.dot(data_initial*12,weights).mean()\n",
    "    return port_ret\n",
    "\n",
    "# Define the portfolio standard deviation function\n",
    "def port_std(weights):\n",
    "    port_std = np.sqrt(np.dot(weights, np.dot(data_initial.cov()*12, weights)))\n",
    "    return port_std\n",
    "\n",
    "# Define the excess portfolio returns function\n",
    "def ex_port_ret(weights):\n",
    "    ex_port_ret = (np.dot(data_initial,weights) - four_factors['RF']).mean()*12\n",
    "    return ex_port_ret\n",
    "\n",
    "# Define the excess portfolio standard deviation function\n",
    "def ex_port_std(weights):\n",
    "    ex_port_std = (np.dot(data_initial,weights) - four_factors['RF']).std()*np.sqrt(12)\n",
    "    return ex_port_std\n",
    "\n",
    "# Define the negative Sharpe Ratio function that we will minimize\n",
    "def neg_SR(weights):\n",
    "    SR = ex_port_ret(weights) / ex_port_std(weights)\n",
    "    return (-1)*SR"
   ]
  },
  {
   "cell_type": "code",
   "execution_count": 21,
   "metadata": {},
   "outputs": [],
   "source": [
    "# By convention of minimize function it should be a function that returns zero for conditions\n",
    "constraints = ({'type':'eq','fun': lambda weights: np.sum(weights) - 1})\n",
    "\n",
    "# Weights must be between 0 and 1\n",
    "boundaries=[(0,1)]\n",
    "bounds = tuple(boundaries * len(data_initial.columns))\n",
    "\n",
    "# Initial Guess (equally weighted)\n",
    "init_guess = np.full(len(data_initial.columns), 1/len(data_initial.columns))"
   ]
  },
  {
   "cell_type": "code",
   "execution_count": 22,
   "metadata": {
    "scrolled": true
   },
   "outputs": [
    {
     "data": {
      "text/plain": [
       "     fun: -2.049720302163076\n",
       "     jac: array([-0.035124  , -0.0351623 , -0.03512147, -0.03529608, -0.03524926,\n",
       "       -0.03546593, -0.035274  , -0.03526902, -0.03551811, -0.03532192,\n",
       "       -0.035671  , -0.0353502 , -0.03514013, -0.03531951, -0.03512287])\n",
       " message: 'Optimization terminated successfully'\n",
       "    nfev: 304\n",
       "     nit: 19\n",
       "    njev: 19\n",
       "  status: 0\n",
       " success: True\n",
       "       x: array([-0.43815816, -0.66816944,  0.31368671,  2.13119223, -0.20725364,\n",
       "        0.12122914, -0.19177084, -0.90267003,  0.08134942, -0.8817601 ,\n",
       "       -0.34823159,  0.24520331,  0.28094458,  0.67197062,  0.79243778])"
      ]
     },
     "execution_count": 22,
     "metadata": {},
     "output_type": "execute_result"
    }
   ],
   "source": [
    "# Optimal Portfolio (OP)\n",
    "optimal_port = minimize(neg_SR,init_guess,#bounds = bounds,\n",
    "                        constraints=constraints)\n",
    "optimal_port"
   ]
  },
  {
   "cell_type": "markdown",
   "metadata": {},
   "source": [
    "#### 4b. The weights of the stocks in the optimal portfolio are:"
   ]
  },
  {
   "cell_type": "code",
   "execution_count": 23,
   "metadata": {},
   "outputs": [],
   "source": [
    "stock_list = stock_list.tolist()"
   ]
  },
  {
   "cell_type": "code",
   "execution_count": 24,
   "metadata": {},
   "outputs": [
    {
     "name": "stdout",
     "output_type": "stream",
     "text": [
      "IBM  -0.4382  PFE  -0.6682  KO  0.3137  JPM  2.1312  DIS  -0.2073  CVX  0.1212  C  -0.1918  GS  -0.9027  TRV  0.0813  XOM  -0.8818  AXP  -0.3482  CAT  0.2452  VZ  0.2809  CSCO  0.672  MRK  0.7924  "
     ]
    }
   ],
   "source": [
    "# Weights of the assets in the optimal portfolio\n",
    "for stock in stock_list:\n",
    "    print(stock + \"  \"+ str(round(optimal_port.x[stock_list.index(stock)],4)),end=\"  \")"
   ]
  },
  {
   "cell_type": "markdown",
   "metadata": {},
   "source": [
    "#### 4c. The optimal portfolio return is:"
   ]
  },
  {
   "cell_type": "code",
   "execution_count": 25,
   "metadata": {},
   "outputs": [
    {
     "data": {
      "text/plain": [
       "0.5549212805875003"
      ]
     },
     "execution_count": 25,
     "metadata": {},
     "output_type": "execute_result"
    }
   ],
   "source": [
    "port_ret(optimal_port.x)"
   ]
  },
  {
   "cell_type": "markdown",
   "metadata": {},
   "source": [
    "#### 4d. The optimal portfolio standard deviation is:"
   ]
  },
  {
   "cell_type": "code",
   "execution_count": 26,
   "metadata": {},
   "outputs": [
    {
     "data": {
      "text/plain": [
       "0.26617882133183346"
      ]
     },
     "execution_count": 26,
     "metadata": {},
     "output_type": "execute_result"
    }
   ],
   "source": [
    "port_std(optimal_port.x)"
   ]
  },
  {
   "cell_type": "markdown",
   "metadata": {},
   "source": [
    "#### 4e. The Sharpe Ratio of the optimal portfolio is:"
   ]
  },
  {
   "cell_type": "code",
   "execution_count": 27,
   "metadata": {},
   "outputs": [
    {
     "data": {
      "text/plain": [
       "2.049720302163076"
      ]
     },
     "execution_count": 27,
     "metadata": {},
     "output_type": "execute_result"
    }
   ],
   "source": [
    "-optimal_port.fun"
   ]
  },
  {
   "cell_type": "markdown",
   "metadata": {},
   "source": [
    "### PART II"
   ]
  },
  {
   "cell_type": "markdown",
   "metadata": {},
   "source": [
    "#### 1. Create a DataFrame named optimal_weights to store the weights from a portfolio optimization performed on a rolling basis. Specifically, the optimization should use a 60 month rolling window, and be performed every month. The first 60 months correspond to the sample period for data_initial (01/2015 - 12/2019) created in question 3. Hence, the first observation in the optimal_weights DataFrame should be the weights you listed above in question 4b. The next 60 month period should be 02/2015 - 01/2020, followed by 03/2015 - 02/2020, and so on. Again, assume there are no short-selling constraints."
   ]
  },
  {
   "cell_type": "code",
   "execution_count": 31,
   "metadata": {},
   "outputs": [
    {
     "data": {
      "text/html": [
       "<div>\n",
       "<style scoped>\n",
       "    .dataframe tbody tr th:only-of-type {\n",
       "        vertical-align: middle;\n",
       "    }\n",
       "\n",
       "    .dataframe tbody tr th {\n",
       "        vertical-align: top;\n",
       "    }\n",
       "\n",
       "    .dataframe thead th {\n",
       "        text-align: right;\n",
       "    }\n",
       "</style>\n",
       "<table border=\"1\" class=\"dataframe\">\n",
       "  <thead>\n",
       "    <tr style=\"text-align: right;\">\n",
       "      <th></th>\n",
       "      <th>RET_IBM</th>\n",
       "      <th>RET_PFE</th>\n",
       "      <th>RET_KO</th>\n",
       "      <th>RET_JPM</th>\n",
       "      <th>RET_DIS</th>\n",
       "      <th>RET_CVX</th>\n",
       "      <th>RET_C</th>\n",
       "      <th>RET_GS</th>\n",
       "      <th>RET_TRV</th>\n",
       "      <th>RET_XOM</th>\n",
       "      <th>RET_AXP</th>\n",
       "      <th>RET_CAT</th>\n",
       "      <th>RET_VZ</th>\n",
       "      <th>RET_CSCO</th>\n",
       "      <th>RET_MRK</th>\n",
       "    </tr>\n",
       "    <tr>\n",
       "      <th>Date</th>\n",
       "      <th></th>\n",
       "      <th></th>\n",
       "      <th></th>\n",
       "      <th></th>\n",
       "      <th></th>\n",
       "      <th></th>\n",
       "      <th></th>\n",
       "      <th></th>\n",
       "      <th></th>\n",
       "      <th></th>\n",
       "      <th></th>\n",
       "      <th></th>\n",
       "      <th></th>\n",
       "      <th></th>\n",
       "      <th></th>\n",
       "    </tr>\n",
       "  </thead>\n",
       "  <tbody>\n",
       "    <tr>\n",
       "      <th>2015-01-31</th>\n",
       "      <td>-0.044440</td>\n",
       "      <td>0.003210</td>\n",
       "      <td>-0.024870</td>\n",
       "      <td>-0.125442</td>\n",
       "      <td>-0.034293</td>\n",
       "      <td>-0.086022</td>\n",
       "      <td>-0.132139</td>\n",
       "      <td>-0.110509</td>\n",
       "      <td>-0.028626</td>\n",
       "      <td>-0.054408</td>\n",
       "      <td>-0.130187</td>\n",
       "      <td>-0.119133</td>\n",
       "      <td>-0.011313</td>\n",
       "      <td>-0.045603</td>\n",
       "      <td>0.061455</td>\n",
       "    </tr>\n",
       "    <tr>\n",
       "      <th>2015-02-28</th>\n",
       "      <td>0.063701</td>\n",
       "      <td>0.107928</td>\n",
       "      <td>0.051737</td>\n",
       "      <td>0.126885</td>\n",
       "      <td>0.144239</td>\n",
       "      <td>0.050698</td>\n",
       "      <td>0.116507</td>\n",
       "      <td>0.104262</td>\n",
       "      <td>0.044933</td>\n",
       "      <td>0.020435</td>\n",
       "      <td>0.011153</td>\n",
       "      <td>0.036639</td>\n",
       "      <td>0.081820</td>\n",
       "      <td>0.119075</td>\n",
       "      <td>-0.028865</td>\n",
       "    </tr>\n",
       "    <tr>\n",
       "      <th>2015-03-31</th>\n",
       "      <td>-0.008892</td>\n",
       "      <td>0.013695</td>\n",
       "      <td>-0.055740</td>\n",
       "      <td>-0.011423</td>\n",
       "      <td>0.007782</td>\n",
       "      <td>-0.015935</td>\n",
       "      <td>-0.017169</td>\n",
       "      <td>-0.009589</td>\n",
       "      <td>0.011592</td>\n",
       "      <td>-0.039982</td>\n",
       "      <td>-0.039329</td>\n",
       "      <td>-0.034620</td>\n",
       "      <td>-0.016582</td>\n",
       "      <td>-0.059956</td>\n",
       "      <td>-0.010162</td>\n",
       "    </tr>\n",
       "    <tr>\n",
       "      <th>2015-04-30</th>\n",
       "      <td>0.067227</td>\n",
       "      <td>-0.024720</td>\n",
       "      <td>0.000247</td>\n",
       "      <td>0.051180</td>\n",
       "      <td>0.036515</td>\n",
       "      <td>0.057916</td>\n",
       "      <td>0.034938</td>\n",
       "      <td>0.044954</td>\n",
       "      <td>-0.064922</td>\n",
       "      <td>0.027883</td>\n",
       "      <td>-0.008577</td>\n",
       "      <td>0.094590</td>\n",
       "      <td>0.048929</td>\n",
       "      <td>0.047221</td>\n",
       "      <td>0.036187</td>\n",
       "    </tr>\n",
       "    <tr>\n",
       "      <th>2015-05-31</th>\n",
       "      <td>-0.002079</td>\n",
       "      <td>0.032642</td>\n",
       "      <td>0.009861</td>\n",
       "      <td>0.039836</td>\n",
       "      <td>0.015176</td>\n",
       "      <td>-0.063332</td>\n",
       "      <td>0.015215</td>\n",
       "      <td>0.053014</td>\n",
       "      <td>0.000099</td>\n",
       "      <td>-0.016772</td>\n",
       "      <td>0.029309</td>\n",
       "      <td>-0.017956</td>\n",
       "      <td>-0.019825</td>\n",
       "      <td>0.016649</td>\n",
       "      <td>0.022331</td>\n",
       "    </tr>\n",
       "  </tbody>\n",
       "</table>\n",
       "</div>"
      ],
      "text/plain": [
       "             RET_IBM   RET_PFE    RET_KO   RET_JPM   RET_DIS   RET_CVX  \\\n",
       "Date                                                                     \n",
       "2015-01-31 -0.044440  0.003210 -0.024870 -0.125442 -0.034293 -0.086022   \n",
       "2015-02-28  0.063701  0.107928  0.051737  0.126885  0.144239  0.050698   \n",
       "2015-03-31 -0.008892  0.013695 -0.055740 -0.011423  0.007782 -0.015935   \n",
       "2015-04-30  0.067227 -0.024720  0.000247  0.051180  0.036515  0.057916   \n",
       "2015-05-31 -0.002079  0.032642  0.009861  0.039836  0.015176 -0.063332   \n",
       "\n",
       "               RET_C    RET_GS   RET_TRV   RET_XOM   RET_AXP   RET_CAT  \\\n",
       "Date                                                                     \n",
       "2015-01-31 -0.132139 -0.110509 -0.028626 -0.054408 -0.130187 -0.119133   \n",
       "2015-02-28  0.116507  0.104262  0.044933  0.020435  0.011153  0.036639   \n",
       "2015-03-31 -0.017169 -0.009589  0.011592 -0.039982 -0.039329 -0.034620   \n",
       "2015-04-30  0.034938  0.044954 -0.064922  0.027883 -0.008577  0.094590   \n",
       "2015-05-31  0.015215  0.053014  0.000099 -0.016772  0.029309 -0.017956   \n",
       "\n",
       "              RET_VZ  RET_CSCO   RET_MRK  \n",
       "Date                                      \n",
       "2015-01-31 -0.011313 -0.045603  0.061455  \n",
       "2015-02-28  0.081820  0.119075 -0.028865  \n",
       "2015-03-31 -0.016582 -0.059956 -0.010162  \n",
       "2015-04-30  0.048929  0.047221  0.036187  \n",
       "2015-05-31 -0.019825  0.016649  0.022331  "
      ]
     },
     "execution_count": 31,
     "metadata": {},
     "output_type": "execute_result"
    }
   ],
   "source": [
    "returns.head()"
   ]
  },
  {
   "cell_type": "code",
   "execution_count": 35,
   "metadata": {
    "collapsed": true
   },
   "outputs": [
    {
     "name": "stdout",
     "output_type": "stream",
     "text": [
      "0\n",
      "1\n",
      "2\n",
      "3\n",
      "4\n",
      "5\n",
      "6\n",
      "7\n",
      "8\n",
      "9\n",
      "10\n",
      "11\n",
      "12\n",
      "13\n",
      "14\n",
      "15\n",
      "16\n",
      "17\n",
      "18\n",
      "19\n",
      "20\n",
      "21\n",
      "22\n",
      "23\n",
      "24\n",
      "25\n",
      "26\n",
      "27\n",
      "28\n",
      "29\n",
      "30\n",
      "31\n",
      "32\n",
      "33\n"
     ]
    }
   ],
   "source": [
    "for i in range(0,len(returns.index)-60):\n",
    "   print(i)"
   ]
  },
  {
   "cell_type": "code",
   "execution_count": 49,
   "metadata": {},
   "outputs": [
    {
     "ename": "NameError",
     "evalue": "name 'negSR' is not defined",
     "output_type": "error",
     "traceback": [
      "\u001b[0;31m---------------------------------------------------------------------------\u001b[0m",
      "\u001b[0;31mNameError\u001b[0m                                 Traceback (most recent call last)",
      "\u001b[0;32m<ipython-input-49-5367c717b24e>\u001b[0m in \u001b[0;36m<module>\u001b[0;34m\u001b[0m\n\u001b[1;32m     38\u001b[0m     \u001b[0minit_guess\u001b[0m \u001b[0;34m=\u001b[0m \u001b[0mnp\u001b[0m\u001b[0;34m.\u001b[0m\u001b[0mfull\u001b[0m\u001b[0;34m(\u001b[0m\u001b[0mlen\u001b[0m\u001b[0;34m(\u001b[0m\u001b[0mreturns\u001b[0m\u001b[0;34m.\u001b[0m\u001b[0mcolumns\u001b[0m\u001b[0;34m)\u001b[0m\u001b[0;34m,\u001b[0m\u001b[0;36m1\u001b[0m\u001b[0;34m/\u001b[0m\u001b[0mlen\u001b[0m\u001b[0;34m(\u001b[0m\u001b[0mreturns\u001b[0m\u001b[0;34m.\u001b[0m\u001b[0mcolumns\u001b[0m\u001b[0;34m)\u001b[0m\u001b[0;34m)\u001b[0m\u001b[0;34m\u001b[0m\u001b[0;34m\u001b[0m\u001b[0m\n\u001b[1;32m     39\u001b[0m \u001b[0;34m\u001b[0m\u001b[0m\n\u001b[0;32m---> 40\u001b[0;31m     \u001b[0mprint\u001b[0m\u001b[0;34m(\u001b[0m\u001b[0mnegSR\u001b[0m\u001b[0;34m)\u001b[0m\u001b[0;34m\u001b[0m\u001b[0;34m\u001b[0m\u001b[0m\n\u001b[0m\u001b[1;32m     41\u001b[0m \u001b[0;34m\u001b[0m\u001b[0m\n\u001b[1;32m     42\u001b[0m \u001b[0;31m#     optimal_port = minimize(neg_SR,init_guess,bounds = bounds,\u001b[0m\u001b[0;34m\u001b[0m\u001b[0;34m\u001b[0m\u001b[0;34m\u001b[0m\u001b[0m\n",
      "\u001b[0;31mNameError\u001b[0m: name 'negSR' is not defined"
     ]
    }
   ],
   "source": [
    "optimal_weights = pd.DataFrame()\n",
    "\n",
    "for i in range(0,len(returns.index)-60+1):\n",
    "    # Define the portfolio returns function\n",
    "    def port_ret(weights):\n",
    "        port_ret = np.dot(returns.iloc[i:i+60]*250,weights).mean()\n",
    "        return port_ret\n",
    "\n",
    "    # Define the portfolio standard deviation function\n",
    "    def port_std(weights):\n",
    "        port_std = np.sqrt(np.dot(weights, np.dot(returns.iloc[i:i+60].cov()*250, weights)))\n",
    "        return port_std\n",
    "\n",
    "    # Define the excess portfolio returns function\n",
    "    def ex_port_ret(weights):\n",
    "        ex_port_ret = (np.dot(returns.iloc[i:i+60],weights) - four_factors.iloc[i:i+60]['RF']).mean()*250\n",
    "        return ex_port_ret\n",
    "\n",
    "    # Define the excess portfolio standard deviation function\n",
    "    def ex_port_std(weights):\n",
    "        ex_port_std = (np.dot(returns.iloc[i:i+60],weights) - four_factors.iloc[i:i+60]['RF']).std()*np.sqrt(250)\n",
    "        return ex_port_std\n",
    "\n",
    "    # Define the negative Sharpe Ratio function that we will minimize\n",
    "    def neg_SR(weights):\n",
    "        SR = ex_port_ret(weights) / ex_port_std(weights)\n",
    "        return (-1)*SR\n",
    "\n",
    "    # By convention of minimize function it should be a function\n",
    "    # that returns zero for conditions\n",
    "    constraints = ({'type':'eq','fun': lambda weights: np.sum(weights) - 1})\n",
    "\n",
    "    # Weights must be between 0 and 1\n",
    "    boundaries=[(0,1)]\n",
    "    bounds = tuple(boundaries * len(returns.columns))\n",
    "\n",
    "    # Initial Guess (equally weighted)\n",
    "    init_guess = np.full(len(returns.columns),1/len(returns.columns))\n",
    "    \n",
    "    \n",
    "#     optimal_port = minimize(neg_SR,init_guess,bounds = bounds,\n",
    "#                             constraints=constraints)\n",
    "    \n",
    "#     optimal_weights = pd.concat([optimal_weights,\n",
    "#                                 pd.DataFrame(optimal_port.x.reshape(1,len(stock_list)).round(4),\n",
    "#                                              columns=[stock_list],\n",
    "#                                              index=[returns.iloc[i:i+60].index[-1]])],\n",
    "#                                 axis=0)"
   ]
  },
  {
   "cell_type": "markdown",
   "metadata": {
    "tags": []
   },
   "source": [
    "#### 2. Create a new DataFrame named port_returns to store the monthly returns over the sample period 01/2020 - 10/2022 for the following portfolios:\n",
    "* 1) A monthly rebalanced portfolio using the rolling optimal weights. Specifically, the portfolio return for 01/2020 should be based on the weights as of 12/2019 (the same values detailed in question 4b), the portfolio return for 02/2020 should be based on the weights as of 01/2020 and so on. Label the portfolio (MRoll_Reb_OP, an acronym for Monthly Rolling Rebalanced Optimal Portfolio). \n",
    "* 2) A monthly rebalanced portfolio using the optimal weights as of 12/2019. Label the portfolio (M_Reb_OP, an acronym for Monthly Rebalancing Optimal Portfolio).\n",
    "* 3) A monthly rebalanced equally-weighted portfolio. Label the portfolio (M_Reb_EW, an acronym for Monthly Rebalancing Equally-Weighted Portfolio).\n",
    "* 4) A buy and hold portfolio, initially allocated according to the optimal weights as of 12/2019. Label the portfolio (BH_OP, an acronym for Buy and Hold Optimal Portfolio).\n",
    "* 5) A buy and hold portfolio, initially allocated equally across stocks. Label the portfolio (BH_EW, an acronym for Buy and Hold Equally-Weighted Portfolio)."
   ]
  },
  {
   "cell_type": "code",
   "execution_count": null,
   "metadata": {},
   "outputs": [],
   "source": [
    "port_returns = pd.DataFrame()\n"
   ]
  },
  {
   "cell_type": "markdown",
   "metadata": {},
   "source": [
    "#### 3. In a single output, provide summary statistics on all portfolios."
   ]
  },
  {
   "cell_type": "code",
   "execution_count": null,
   "metadata": {},
   "outputs": [],
   "source": []
  },
  {
   "cell_type": "markdown",
   "metadata": {},
   "source": [
    "#### 4a. Compute the cumulative return series for all portfolios and plot them in the same graph. "
   ]
  },
  {
   "cell_type": "code",
   "execution_count": null,
   "metadata": {},
   "outputs": [],
   "source": []
  },
  {
   "cell_type": "markdown",
   "metadata": {},
   "source": [
    "#### 4b. What was the cumulative return for the best performing portfolio? What was the cumulative return for the worst performing portfolio?"
   ]
  },
  {
   "cell_type": "code",
   "execution_count": null,
   "metadata": {},
   "outputs": [],
   "source": []
  },
  {
   "cell_type": "markdown",
   "metadata": {},
   "source": [
    "#### 5. Run the Fama-French 4 factor models for all portfolios defined above, and store the coefficients and p-values in a DataFrame named results. Would any of the portfolios have been successful allocations? Briefly explain."
   ]
  },
  {
   "cell_type": "code",
   "execution_count": null,
   "metadata": {},
   "outputs": [],
   "source": []
  },
  {
   "cell_type": "markdown",
   "metadata": {},
   "source": [
    "### PART III - Examination of the Size Effect"
   ]
  },
  {
   "cell_type": "markdown",
   "metadata": {},
   "source": [
    "Please download the file \"crsp_fall22.csv\" located in folder Group_Assignment. The file contains the following columns:\n",
    "* PERMNO - Permanent number (unique identifer for the stock)\n",
    "* DATE\n",
    "* PRC - The closing price\n",
    "* VOL - Trading volume (in hundreds)\n",
    "* RET - The simple return\n",
    "* SHROUT - The number of shares outstanding (in thousands)\n",
    "* CFACPR - Cumulative factor to adjust the closing price\n",
    "* CFACSHR - Cumulative factor to adjust shares outstanding"
   ]
  },
  {
   "cell_type": "markdown",
   "metadata": {
    "tags": []
   },
   "source": [
    "#### 1. Create a DataFrame named fin_data by reading in the columns DATE, PERMNO, RET, PRC and SHROUT from the file 'crsp_fall2.csv'. Set the DATE as the index. In addition, change each index value to the end of the month. For example, change '1990-09-28' to '1990-09-30', or '1991-06-28' to '1990-06-30'."
   ]
  },
  {
   "cell_type": "code",
   "execution_count": null,
   "metadata": {},
   "outputs": [],
   "source": []
  },
  {
   "cell_type": "markdown",
   "metadata": {},
   "source": [
    "#### 2. How many stocks are there in the sample? How many stocks are in the sample over the entire period?"
   ]
  },
  {
   "cell_type": "code",
   "execution_count": null,
   "metadata": {},
   "outputs": [],
   "source": []
  },
  {
   "cell_type": "markdown",
   "metadata": {},
   "source": [
    "#### 3. Create a new column (labeled MKTCAP) to store the market capitalization (defined as PRC * SHROUT). Subsequently, permanently remove the PRC and SHROUT columns."
   ]
  },
  {
   "cell_type": "code",
   "execution_count": null,
   "metadata": {},
   "outputs": [],
   "source": []
  },
  {
   "cell_type": "markdown",
   "metadata": {
    "tags": []
   },
   "source": [
    "#### 4. Every June, split the stocks into quintiles (five groups) based on their market capitalization. (Hint: Consider using the pd.transform() or pd.qcut() methods to achieve this). In addition, change each index value from the end of June to the end of July in the created DataFrame. For example, change '1926-06_30' to 1926-07-31'. The header of a DataFrame named size_qt, sorted by index, is found below. Subsequently, drop the MKTCAP column from the DataFrame size_qt."
   ]
  },
  {
   "cell_type": "code",
   "execution_count": null,
   "metadata": {},
   "outputs": [],
   "source": []
  },
  {
   "cell_type": "markdown",
   "metadata": {
    "tags": []
   },
   "source": [
    "#### 5. Create a new DataFrame named data by using the merge_asof() function to merge the DataFrames fin_data and size_qt. Specifically, merge each stock's July quintile allocation with each of the stock's 12 monthly returns for the year starting that July. Subsequently, set DATE as the index in the DataFrame."
   ]
  },
  {
   "cell_type": "code",
   "execution_count": null,
   "metadata": {},
   "outputs": [],
   "source": []
  },
  {
   "cell_type": "markdown",
   "metadata": {},
   "source": [
    "#### 6. Create a new DataFrame called quintiles to store the average monthly return for each quintile. The header of the DataFrame can be found below:"
   ]
  },
  {
   "cell_type": "code",
   "execution_count": null,
   "metadata": {},
   "outputs": [],
   "source": []
  },
  {
   "cell_type": "markdown",
   "metadata": {},
   "source": [
    "#### 7. Create a bar plot of the average monthly return for all five market capitalization groups, across the entire sample."
   ]
  },
  {
   "cell_type": "code",
   "execution_count": null,
   "metadata": {},
   "outputs": [],
   "source": []
  },
  {
   "cell_type": "markdown",
   "metadata": {},
   "source": [
    "#### 8. Create a line plot of the cumulative return series for all five market capitalization groups."
   ]
  },
  {
   "cell_type": "code",
   "execution_count": null,
   "metadata": {},
   "outputs": [],
   "source": []
  }
 ],
 "metadata": {
  "anaconda-cloud": {},
  "kernelspec": {
   "display_name": "Python 3",
   "language": "python",
   "name": "python3"
  },
  "language_info": {
   "codemirror_mode": {
    "name": "ipython",
    "version": 3
   },
   "file_extension": ".py",
   "mimetype": "text/x-python",
   "name": "python",
   "nbconvert_exporter": "python",
   "pygments_lexer": "ipython3",
   "version": "3.8.8"
  }
 },
 "nbformat": 4,
 "nbformat_minor": 4
}
